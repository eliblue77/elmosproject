{
  "nbformat": 4,
  "nbformat_minor": 0,
  "metadata": {
    "colab": {
      "provenance": [],
      "authorship_tag": "ABX9TyP9fOsZ0FOKFkTes0ZzMJFW",
      "include_colab_link": true
    },
    "kernelspec": {
      "name": "python3",
      "display_name": "Python 3"
    },
    "language_info": {
      "name": "python"
    }
  },
  "cells": [
    {
      "cell_type": "markdown",
      "metadata": {
        "id": "view-in-github",
        "colab_type": "text"
      },
      "source": [
        "<a href=\"https://colab.research.google.com/github/eliblue77/elmosproject/blob/main/elmosproject.ipynb\" target=\"_parent\"><img src=\"https://colab.research.google.com/assets/colab-badge.svg\" alt=\"Open In Colab\"/></a>"
      ]
    },
    {
      "cell_type": "code",
      "execution_count": 1,
      "metadata": {
        "id": "hnZ17TGV2fob",
        "colab": {
          "base_uri": "https://localhost:8080/",
          "height": 1000
        },
        "outputId": "6c4a523a-7412-4b2d-de09-746970659897"
      },
      "outputs": [
        {
          "output_type": "stream",
          "name": "stdout",
          "text": [
            "-------KNN----------\n",
            "Confusion Matrix:\n",
            "[[6 0 2 0]\n",
            " [0 4 1 0]\n",
            " [0 0 3 0]\n",
            " [0 0 1 1]]\n",
            "Classification Report:\n",
            "              precision    recall  f1-score   support\n",
            "\n",
            "       HighE       1.00      0.75      0.86         8\n",
            "       HighN       1.00      0.80      0.89         5\n",
            "       HighO       0.43      1.00      0.60         3\n",
            "     neutral       1.00      0.50      0.67         2\n",
            "\n",
            "    accuracy                           0.78        18\n",
            "   macro avg       0.86      0.76      0.75        18\n",
            "weighted avg       0.90      0.78      0.80        18\n",
            "\n",
            "Accuracy: 0.7777777777777778\n",
            "-------DecisionTreeClassifier----------\n",
            "Confusion Matrix:\n",
            "[[4 0 2 2]\n",
            " [2 2 1 0]\n",
            " [0 0 3 0]\n",
            " [0 0 0 2]]\n",
            "Classification Report:\n",
            "              precision    recall  f1-score   support\n",
            "\n",
            "       HighE       0.67      0.50      0.57         8\n",
            "       HighN       1.00      0.40      0.57         5\n",
            "       HighO       0.50      1.00      0.67         3\n",
            "     neutral       0.50      1.00      0.67         2\n",
            "\n",
            "    accuracy                           0.61        18\n",
            "   macro avg       0.67      0.72      0.62        18\n",
            "weighted avg       0.71      0.61      0.60        18\n",
            "\n",
            "Accuracy: 0.6111111111111112\n",
            "-------random forest----------\n",
            "Confusion Matrix:\n",
            "[[7 0 1 0]\n",
            " [0 5 0 0]\n",
            " [1 0 2 0]\n",
            " [0 0 2 0]]\n",
            "Classification Report:\n",
            "              precision    recall  f1-score   support\n",
            "\n",
            "       HighE       0.88      0.88      0.88         8\n",
            "       HighN       1.00      1.00      1.00         5\n",
            "       HighO       0.40      0.67      0.50         3\n",
            "     neutral       0.00      0.00      0.00         2\n",
            "\n",
            "    accuracy                           0.78        18\n",
            "   macro avg       0.57      0.64      0.59        18\n",
            "weighted avg       0.73      0.78      0.75        18\n",
            "\n",
            "Accuracy: 0.7777777777777778\n",
            "-------LogisticRegression----------\n",
            "Confusion Matrix:\n",
            "[[7 0 0 1]\n",
            " [0 4 1 0]\n",
            " [0 0 3 0]\n",
            " [0 0 0 2]]\n",
            "Classification Report:\n",
            "              precision    recall  f1-score   support\n",
            "\n",
            "       HighE       1.00      0.88      0.93         8\n",
            "       HighN       1.00      0.80      0.89         5\n",
            "       HighO       0.75      1.00      0.86         3\n",
            "     neutral       0.67      1.00      0.80         2\n",
            "\n",
            "    accuracy                           0.89        18\n",
            "   macro avg       0.85      0.92      0.87        18\n",
            "weighted avg       0.92      0.89      0.89        18\n",
            "\n",
            "Accuracy: 0.8888888888888888\n",
            "-------gaussian----------\n",
            "Confusion Matrix:\n",
            "[[5 1 1 1]\n",
            " [0 3 2 0]\n",
            " [1 0 2 0]\n",
            " [0 0 2 0]]\n",
            "Classification Report:\n",
            "              precision    recall  f1-score   support\n",
            "\n",
            "       HighE       0.83      0.62      0.71         8\n",
            "       HighN       0.75      0.60      0.67         5\n",
            "       HighO       0.29      0.67      0.40         3\n",
            "     neutral       0.00      0.00      0.00         2\n",
            "\n",
            "    accuracy                           0.56        18\n",
            "   macro avg       0.47      0.47      0.45        18\n",
            "weighted avg       0.63      0.56      0.57        18\n",
            "\n",
            "Accuracy: 0.5555555555555556\n",
            "-------#bernoli ----------\n",
            "Confusion Matrix:\n",
            "[[6 0 1 1]\n",
            " [0 4 1 0]\n",
            " [1 0 2 0]\n",
            " [0 0 0 2]]\n",
            "Classification Report:\n",
            "              precision    recall  f1-score   support\n",
            "\n",
            "       HighE       0.86      0.75      0.80         8\n",
            "       HighN       1.00      0.80      0.89         5\n",
            "       HighO       0.50      0.67      0.57         3\n",
            "     neutral       0.67      1.00      0.80         2\n",
            "\n",
            "    accuracy                           0.78        18\n",
            "   macro avg       0.76      0.80      0.77        18\n",
            "weighted avg       0.82      0.78      0.79        18\n",
            "\n",
            "Accuracy: 0.7777777777777778\n",
            "-------#NearestCentroid ----------\n",
            "Confusion Matrix:\n",
            "[[6 0 1 1]\n",
            " [0 4 1 0]\n",
            " [1 0 2 0]\n",
            " [0 0 0 2]]\n",
            "Classification Report:\n",
            "              precision    recall  f1-score   support\n",
            "\n",
            "       HighE       0.86      0.75      0.80         8\n",
            "       HighN       1.00      0.80      0.89         5\n",
            "       HighO       0.50      0.67      0.57         3\n",
            "     neutral       0.67      1.00      0.80         2\n",
            "\n",
            "    accuracy                           0.78        18\n",
            "   macro avg       0.76      0.80      0.77        18\n",
            "weighted avg       0.82      0.78      0.79        18\n",
            "\n",
            "Accuracy: 0.7777777777777778\n",
            "-------SVM----------\n",
            "Confusion Matrix:\n",
            "[[7 0 1 0]\n",
            " [0 4 1 0]\n",
            " [0 0 3 0]\n",
            " [0 0 2 0]]\n",
            "Classification Report:\n",
            "              precision    recall  f1-score   support\n",
            "\n",
            "       HighE       1.00      0.88      0.93         8\n",
            "       HighN       1.00      0.80      0.89         5\n",
            "       HighO       0.43      1.00      0.60         3\n",
            "     neutral       0.00      0.00      0.00         2\n",
            "\n",
            "    accuracy                           0.78        18\n",
            "   macro avg       0.61      0.67      0.61        18\n",
            "weighted avg       0.79      0.78      0.76        18\n",
            "\n",
            "Accuracy: 0.7777777777777778\n",
            "----------------------------------------------------\n",
            "----------------------------------------------------\n",
            "\n",
            "cross_validation Report k=7:\n",
            "\n",
            "GaussianNB()\n",
            "f1_weighted:0.70\n",
            "recall_weighted:0.74\n",
            "precision_weighted:0.68\n",
            "\n",
            "----------------------\n",
            "\n",
            "BernoulliNB()\n",
            "f1_weighted:0.44\n",
            "recall_weighted:0.47\n",
            "precision_weighted:0.45\n",
            "\n",
            "----------------------\n",
            "\n",
            "SVC()\n",
            "f1_weighted:0.52\n",
            "recall_weighted:0.61\n",
            "precision_weighted:0.52\n",
            "\n",
            "----------------------\n",
            "\n",
            "KNeighborsClassifier()\n",
            "f1_weighted:0.65\n",
            "recall_weighted:0.69\n",
            "precision_weighted:0.64\n",
            "\n",
            "----------------------\n",
            "\n",
            "DecisionTreeClassifier()\n",
            "f1_weighted:0.44\n",
            "recall_weighted:0.54\n",
            "precision_weighted:0.64\n",
            "\n",
            "----------------------\n",
            "\n",
            "RandomForestClassifier(n_estimators=70)\n",
            "f1_weighted:0.65\n",
            "recall_weighted:0.70\n",
            "precision_weighted:0.67\n",
            "\n",
            "----------------------\n",
            "\n",
            "LogisticRegression()\n",
            "f1_weighted:0.86\n",
            "recall_weighted:0.87\n",
            "precision_weighted:0.87\n",
            "\n",
            "----------------------\n",
            "\n",
            "NearestCentroid()\n",
            "f1_weighted:0.72\n",
            "recall_weighted:0.71\n",
            "precision_weighted:0.76\n",
            "\n",
            "----------------------\n",
            "\n",
            "final test with new data\n",
            "--------logestic------------\n",
            "['HighN' 'HighE' 'HighE' 'HighE' 'HighN' 'HighO' 'HighN' 'HighO' 'HighN'\n",
            " 'HighE' 'HighN' 'HighO']\n",
            "['HighN' 'HighE' 'HighE' 'HighE' 'HighO' 'HighE' 'HighN' 'HighO' 'HighN'\n",
            " 'HighE' 'HighN' 'HighO']\n"
          ]
        },
        {
          "output_type": "display_data",
          "data": {
            "text/plain": [
              "<Figure size 1200x600 with 0 Axes>"
            ]
          },
          "metadata": {}
        },
        {
          "output_type": "display_data",
          "data": {
            "text/plain": [
              "<Figure size 1200x600 with 0 Axes>"
            ]
          },
          "metadata": {}
        },
        {
          "output_type": "display_data",
          "data": {
            "text/plain": [
              "<Figure size 1200x600 with 0 Axes>"
            ]
          },
          "metadata": {}
        },
        {
          "output_type": "display_data",
          "data": {
            "text/plain": [
              "<Figure size 1200x600 with 0 Axes>"
            ]
          },
          "metadata": {}
        },
        {
          "output_type": "display_data",
          "data": {
            "text/plain": [
              "<Figure size 1200x600 with 0 Axes>"
            ]
          },
          "metadata": {}
        },
        {
          "output_type": "display_data",
          "data": {
            "text/plain": [
              "<Figure size 1200x600 with 0 Axes>"
            ]
          },
          "metadata": {}
        },
        {
          "output_type": "display_data",
          "data": {
            "text/plain": [
              "<Figure size 1200x600 with 0 Axes>"
            ]
          },
          "metadata": {}
        },
        {
          "output_type": "display_data",
          "data": {
            "text/plain": [
              "<Figure size 1200x600 with 0 Axes>"
            ]
          },
          "metadata": {}
        },
        {
          "output_type": "display_data",
          "data": {
            "text/plain": [
              "<Figure size 1200x600 with 0 Axes>"
            ]
          },
          "metadata": {}
        },
        {
          "output_type": "display_data",
          "data": {
            "text/plain": [
              "<Figure size 1200x600 with 0 Axes>"
            ]
          },
          "metadata": {}
        },
        {
          "output_type": "display_data",
          "data": {
            "text/plain": [
              "<Figure size 1200x600 with 0 Axes>"
            ]
          },
          "metadata": {}
        },
        {
          "output_type": "display_data",
          "data": {
            "text/plain": [
              "<Figure size 1200x600 with 0 Axes>"
            ]
          },
          "metadata": {}
        },
        {
          "output_type": "display_data",
          "data": {
            "text/plain": [
              "<Figure size 1200x600 with 0 Axes>"
            ]
          },
          "metadata": {}
        },
        {
          "output_type": "display_data",
          "data": {
            "text/plain": [
              "<Figure size 1200x600 with 0 Axes>"
            ]
          },
          "metadata": {}
        },
        {
          "output_type": "display_data",
          "data": {
            "text/plain": [
              "<Figure size 1200x600 with 0 Axes>"
            ]
          },
          "metadata": {}
        },
        {
          "output_type": "display_data",
          "data": {
            "text/plain": [
              "<Figure size 1200x600 with 0 Axes>"
            ]
          },
          "metadata": {}
        },
        {
          "output_type": "display_data",
          "data": {
            "text/plain": [
              "<Figure size 1200x600 with 0 Axes>"
            ]
          },
          "metadata": {}
        },
        {
          "output_type": "display_data",
          "data": {
            "text/plain": [
              "<Figure size 1200x600 with 0 Axes>"
            ]
          },
          "metadata": {}
        },
        {
          "output_type": "display_data",
          "data": {
            "text/plain": [
              "<Figure size 1200x600 with 1 Axes>"
            ],
            "image/png": "[encoded data removed]"
          },
          "metadata": {}
        }
      ],
      "source": [
        "#تست الگوريتما با\n",
        "from sklearn.metrics._plot.precision_recall_curve import average_precision_score\n",
        "import numpy as np\n",
        "import matplotlib.pyplot as plt\n",
        "import pandas as pd\n",
        "import seaborn as sns; sns.set()\n",
        "from sklearn.tree import DecisionTreeClassifier\n",
        "from sklearn.metrics import classification_report, confusion_matrix, accuracy_score\n",
        "from sklearn.model_selection import train_test_split\n",
        "\n",
        "dataset =pd.read_csv('/content/traindata.csv', )\n",
        "import warnings\n",
        "warnings.filterwarnings('ignore')\n",
        "X = dataset.iloc[:,:-1].values\n",
        "y = dataset.iloc[:,67].values\n",
        "\n",
        "X_train, X_test, y_train, y_test = train_test_split(X, y, test_size=0.25,random_state=25)\n",
        "\n",
        "#StandardScaler\n",
        "from sklearn.preprocessing import StandardScaler\n",
        "scaler = StandardScaler()\n",
        "scaler.fit(X_train)\n",
        "X_train = scaler.transform(X_train)\n",
        "X_test = scaler.transform(X_test)\n",
        "\n",
        "\n",
        "\n",
        "#------KNN\n",
        "from sklearn.neighbors import KNeighborsClassifier\n",
        "classifier = KNeighborsClassifier(n_neighbors=5)\n",
        "classifier.fit(X_train, y_train)\n",
        "y_pred = classifier.predict(X_test)\n",
        "print(\"-------KNN----------\")\n",
        "print(\"Confusion Matrix:\")\n",
        "print(confusion_matrix(y_test, y_pred))\n",
        "print(\"Classification Report:\",)\n",
        "print(classification_report(y_test, y_pred))\n",
        "result = accuracy_score(y_test,y_pred)\n",
        "print(\"Accuracy:\",result)\n",
        "#نمايش خطا\n",
        "error = []\n",
        "# Calculating error for K values between 1 and 40\n",
        "for i in range(1, 20):\n",
        "    knn = KNeighborsClassifier(n_neighbors=i)\n",
        "    knn.fit(X_train, y_train)\n",
        "    pred_i = knn.predict(X_test)\n",
        "    error.append(np.mean(pred_i != y_test))\n",
        "    plt.figure(figsize=(12, 6))\n",
        "plt.plot(range(1, 20), error, color='red', linestyle='dashed', marker='o',\n",
        "         markerfacecolor='blue', markersize=11)\n",
        "plt.title('Error Rate K Value')\n",
        "plt.xlabel('K Value')\n",
        "plt.ylabel('Mean Error')\n",
        "\n",
        "\n",
        "\n",
        "#DecisionTreeClassifier(CART)\n",
        "clf = DecisionTreeClassifier()\n",
        "clf = clf.fit(X_train,y_train)\n",
        "y_pred1 = clf.predict(X_test)\n",
        "result1 = confusion_matrix(y_test, y_pred1)\n",
        "print(\"-------DecisionTreeClassifier----------\")\n",
        "print(\"Confusion Matrix:\")\n",
        "print(result1)\n",
        "result2 = classification_report(y_test, y_pred1)\n",
        "print(\"Classification Report:\",)\n",
        "print (result2)\n",
        "result3 = accuracy_score(y_test,y_pred1)\n",
        "print(\"Accuracy:\",result3)\n",
        "#random forest\n",
        "#/////////////////////////////////////////////////////////\n",
        "from sklearn.ensemble import RandomForestClassifier\n",
        "classifier = RandomForestClassifier(n_estimators=70)\n",
        "classifier.fit(X_train, y_train)\n",
        "y_pred2 = classifier.predict(X_test)\n",
        "result4 = confusion_matrix(y_test, y_pred2)\n",
        "print(\"-------random forest----------\")\n",
        "print(\"Confusion Matrix:\")\n",
        "print(result4)\n",
        "result5 = classification_report(y_test, y_pred2)\n",
        "print(\"Classification Report:\",)\n",
        "print (result5)\n",
        "result6 = accuracy_score(y_test,y_pred2)\n",
        "print(\"Accuracy:\",result6)\n",
        "\n",
        "\n",
        "#LogisticRegression\n",
        "#/////////////////////////////////////////////////////////\n",
        "from sklearn.linear_model import LogisticRegression\n",
        "classifierl = LogisticRegression()\n",
        "classifierl.fit(X_train, y_train)\n",
        "y_pred2 = classifierl.predict(X_test)\n",
        "result4 = confusion_matrix(y_test, y_pred2)\n",
        "print(\"-------LogisticRegression----------\")\n",
        "print(\"Confusion Matrix:\")\n",
        "print(result4)\n",
        "result5 = classification_report(y_test, y_pred2)\n",
        "print(\"Classification Report:\",)\n",
        "print (result5)\n",
        "result6 = accuracy_score(y_test,y_pred2)\n",
        "print(\"Accuracy:\",result6)\n",
        "#gaussian\n",
        "#/////////////////////////////////////////////////////////\n",
        "from sklearn.naive_bayes import GaussianNB\n",
        "classifier1 = GaussianNB()\n",
        "classifier1.fit(X_train, y_train)\n",
        "y_predg = classifier1.predict(X_test)\n",
        "result4 = confusion_matrix(y_test, y_predg)\n",
        "print(\"-------gaussian----------\")\n",
        "print(\"Confusion Matrix:\")\n",
        "print(result4)\n",
        "result5 = classification_report(y_test, y_predg)\n",
        "print(\"Classification Report:\",)\n",
        "print (result5)\n",
        "result6 = accuracy_score(y_test,y_predg)\n",
        "print(\"Accuracy:\",result6)\n",
        "#bernoli\n",
        "#/////////////////////////////////////////////////////////\n",
        "from sklearn.naive_bayes import BernoulliNB\n",
        "classifier = BernoulliNB()\n",
        "classifier.fit(X_train, y_train)\n",
        "y_pred2 = classifier.predict(X_test)\n",
        "result4 = confusion_matrix(y_test, y_pred2)\n",
        "print(\"-------#bernoli ----------\")\n",
        "print(\"Confusion Matrix:\")\n",
        "print(result4)\n",
        "result5 = classification_report(y_test, y_pred2)\n",
        "print(\"Classification Report:\",)\n",
        "print (result5)\n",
        "result6 = accuracy_score(y_test,y_pred2)\n",
        "print(\"Accuracy:\",result6)\n",
        "# NearestCentroid----------------------------\n",
        "from sklearn.neighbors import NearestCentroid\n",
        "model = NearestCentroid()\n",
        "model.fit(X_train, y_train)\n",
        "y_pred7 = model.predict(X_test)\n",
        "result44 = confusion_matrix(y_test, y_pred7)\n",
        "print(\"-------#NearestCentroid ----------\")\n",
        "print(\"Confusion Matrix:\")\n",
        "print(result44)\n",
        "result55 = classification_report(y_test, y_pred7)\n",
        "print(\"Classification Report:\",)\n",
        "print (result55)\n",
        "result66 = accuracy_score(y_test,y_pred7)\n",
        "print(\"Accuracy:\",result66)\n",
        "\n",
        "# ------------SVM-------------\n",
        "from sklearn.svm import SVC\n",
        "svm_model=SVC()\n",
        "svm_model.fit(X_train,y_train)\n",
        "ypred=svm_model.predict(X_test)\n",
        "result4 = confusion_matrix(y_test, ypred)\n",
        "print(\"-------SVM----------\")\n",
        "print(\"Confusion Matrix:\")\n",
        "print(result4)\n",
        "result5 = classification_report(y_test, ypred)\n",
        "print(\"Classification Report:\",)\n",
        "print (result5)\n",
        "result6 = accuracy_score(y_test,ypred)\n",
        "print(\"Accuracy:\",result6)\n",
        "print(\"----------------------------------------------------\",)\n",
        "print(\"----------------------------------------------------\",)\n",
        "print()\n",
        "print(\"cross_validation Report k=7:\",)\n",
        "print()\n",
        "#---------------------cross_val_score\n",
        "from sklearn.model_selection import cross_val_score\n",
        "from sklearn.model_selection import cross_val_predict\n",
        "gnb=GaussianNB()\n",
        "bnb=BernoulliNB()\n",
        "svm=SVC()\n",
        "knn=KNeighborsClassifier(n_neighbors=5)\n",
        "dt=DecisionTreeClassifier()\n",
        "rf=RandomForestClassifier(n_estimators=70)\n",
        "ls=LogisticRegression()\n",
        "nsi = NearestCentroid()\n",
        "\n",
        "algo=[gnb,bnb,svm,knn,dt,rf,ls,nsi]\n",
        "for algo in algo:\n",
        "    scoresp=cross_val_score(algo,X,y,cv=7,scoring='precision_weighted').mean()\n",
        "    scoresr=cross_val_score(algo,X,y,cv=7,scoring='recall_weighted').mean()\n",
        "    scoresf=cross_val_score(algo,X,y,cv=7,scoring='f1_weighted').mean()\n",
        "    print(algo)\n",
        "    print(\"f1_weighted:%.2f\" % scoresf)\n",
        "    print(\"recall_weighted:%.2f\" % scoresr)\n",
        "    print(\"precision_weighted:%.2f\" % scoresp)\n",
        "    print()\n",
        "    print('----------------------')\n",
        "    print()\n",
        "\n",
        "# final test with new data\n",
        "print(\"final test with new data\")\n",
        "dataset =pd.read_csv('/content/testdata.csv', )\n",
        "Xazmon = dataset.iloc[:,:-1].values\n",
        "yazmon = dataset.iloc[:,67].values\n",
        "\n",
        "scaler2 = StandardScaler()\n",
        "scaler2.fit(Xazmon)\n",
        "X_trainazmon = scaler2.transform(Xazmon)\n",
        "\n",
        "#logestic predict\n",
        "\n",
        "y_predazmon = classifierl.predict(X_trainazmon)\n",
        "\n",
        "print(\"--------logestic------------\")\n",
        "print(yazmon)\n",
        "print( y_predazmon)\n"
      ]
    }
  ]
}